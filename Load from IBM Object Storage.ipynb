{
    "metadata": {
        "language_info": {
            "file_extension": ".py", 
            "nbconvert_exporter": "python", 
            "mimetype": "text/x-python", 
            "version": "2.7.11", 
            "pygments_lexer": "ipython2", 
            "codemirror_mode": {
                "name": "ipython", 
                "version": 2
            }, 
            "name": "python"
        }, 
        "kernelspec": {
            "name": "python2-spark20", 
            "language": "python", 
            "display_name": "Python 2 with Spark 2.0"
        }
    }, 
    "nbformat": 4, 
    "nbformat_minor": 0, 
    "cells": [
        {
            "execution_count": 1, 
            "source": "# The code was removed by DSX for sharing.", 
            "cell_type": "code", 
            "metadata": {
                "collapsed": false
            }, 
            "outputs": [
                {
                    "output_type": "execute_result", 
                    "execution_count": 1, 
                    "metadata": {}, 
                    "data": {
                        "text/plain": "[Row(datetime=u'2015-09-14T08:00:00Z', cigarettes-smoked-daily=None, food-groups=None, pill-consumed-day=u'1', pill-consumed-night=None),\n Row(datetime=u'2015-09-14T19:00:00Z', cigarettes-smoked-daily=u'9', food-groups=None, pill-consumed-day=None, pill-consumed-night=None),\n Row(datetime=u'2015-09-14T20:00:00Z', cigarettes-smoked-daily=None, food-groups=None, pill-consumed-day=None, pill-consumed-night=u'1'),\n Row(datetime=u'2015-09-14T22:00:00Z', cigarettes-smoked-daily=None, food-groups=None, pill-consumed-day=None, pill-consumed-night=None),\n Row(datetime=u'2015-09-13T08:00:00Z', cigarettes-smoked-daily=None, food-groups=None, pill-consumed-day=u'1', pill-consumed-night=None)]"
                    }
                }
            ]
        }
    ]
}